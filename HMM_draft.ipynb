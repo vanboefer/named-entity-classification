{
 "cells": [
  {
   "cell_type": "code",
   "execution_count": 1,
   "metadata": {},
   "outputs": [],
   "source": [
    "import extract_features as ef\n",
    "\n",
    "from nltk.tag import hmm\n",
    "from nltk.probability import LidstoneProbDist"
   ]
  },
  {
   "cell_type": "markdown",
   "metadata": {},
   "source": [
    "The code in this notebook is based on: http://www.nltk.org/_modules/nltk/tag/hmm.html"
   ]
  },
  {
   "cell_type": "code",
   "execution_count": 2,
   "metadata": {},
   "outputs": [],
   "source": [
    "def hmm_feat(infilepath):\n",
    "    \"\"\"\n",
    "    tbd\n",
    "    \"\"\"\n",
    "\n",
    "    with open(infilepath, 'r') as f:\n",
    "        text = f.read()\n",
    "\n",
    "    tag_set = set()\n",
    "    lemma_set = set()\n",
    "    sentences = list()\n",
    "    \n",
    "    for line in text.split('\\n\\n'):\n",
    "        if line == '-DOCSTART- -X- O O' or '\"' in line:\n",
    "            continue\n",
    "        else:\n",
    "            sentence = list()\n",
    "            sent_items = line.split('\\n')\n",
    "            for item in sent_items:\n",
    "                if len(item.split(' ')) < 4:\n",
    "                    continue\n",
    "                else:\n",
    "                    token = item.split(' ')[0]\n",
    "                    ner_tag = ef.clean_ner_tags(item.split(' ')[3])\n",
    "                    lemma = ef.lemmatizer(token)\n",
    "                    \n",
    "                    tag_set.add(ner_tag)\n",
    "                    lemma_set.add(lemma)\n",
    "                    \n",
    "                    lemma_tag = lemma, ner_tag\n",
    "                    sentence.append(lemma_tag)\n",
    "                    \n",
    "            sentences.append(sentence)\n",
    "        \n",
    "    return sentences, tag_set, lemma_set"
   ]
  },
  {
   "cell_type": "code",
   "execution_count": 3,
   "metadata": {},
   "outputs": [],
   "source": [
    "# prep train and test data\n",
    "\n",
    "train_sents, tags, lemmas = hmm_feat('data/train_reuters.en')\n",
    "\n",
    "test_sents, test_tags, test_lemmas = hmm_feat('data/test.conll')\n",
    "\n",
    "# remove empty lists (otherwise: error in testing):\n",
    "\n",
    "for idx, item in enumerate(train_sents):\n",
    "    if item == []:\n",
    "        train_sents.pop(idx)\n",
    "\n",
    "for idx, item in enumerate(test_sents):\n",
    "    if item == []:\n",
    "        test_sents.pop(idx)"
   ]
  },
  {
   "cell_type": "code",
   "execution_count": 4,
   "metadata": {},
   "outputs": [],
   "source": [
    "# supervised training\n",
    "\n",
    "trainer = hmm.HiddenMarkovModelTrainer(tags, lemmas)\n",
    "\n",
    "hmm = trainer.train_supervised(train_sents, estimator=lambda fd, bins: LidstoneProbDist(fd, 0.1, bins),)"
   ]
  },
  {
   "cell_type": "code",
   "execution_count": 5,
   "metadata": {},
   "outputs": [
    {
     "name": "stdout",
     "output_type": "stream",
     "text": [
      "accuracy over 42486 tokens: 93.29\n"
     ]
    }
   ],
   "source": [
    "# testing\n",
    "\n",
    "hmm.test(test_sents, verbose=False)"
   ]
  },
  {
   "cell_type": "code",
   "execution_count": null,
   "metadata": {},
   "outputs": [],
   "source": []
  }
 ],
 "metadata": {
  "kernelspec": {
   "display_name": "Python 3",
   "language": "python",
   "name": "python3"
  },
  "language_info": {
   "codemirror_mode": {
    "name": "ipython",
    "version": 3
   },
   "file_extension": ".py",
   "mimetype": "text/x-python",
   "name": "python",
   "nbconvert_exporter": "python",
   "pygments_lexer": "ipython3",
   "version": "3.7.0"
  }
 },
 "nbformat": 4,
 "nbformat_minor": 2
}
